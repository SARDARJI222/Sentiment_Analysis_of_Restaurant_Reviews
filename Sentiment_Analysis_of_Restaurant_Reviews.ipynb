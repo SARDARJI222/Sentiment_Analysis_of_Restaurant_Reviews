{
 "cells": [
  {
   "cell_type": "markdown",
   "metadata": {
    "id": "KBxEqrbQjxPW"
   },
   "source": [
    "# Sentiment Analysis of Restaurant Reviews Project"
   ]
  },
  {
   "cell_type": "markdown",
   "metadata": {},
   "source": [
    "Random Forest below naive bayes"
   ]
  },
  {
   "cell_type": "markdown",
   "metadata": {
    "id": "BbCz36mikJ0F"
   },
   "source": [
    "## Import required Libraries"
   ]
  },
  {
   "cell_type": "code",
   "execution_count": 1,
   "metadata": {
    "id": "lyKnMgaFkOpu"
   },
   "outputs": [],
   "source": [
    "import numpy as np\n",
    "import pandas as pd"
   ]
  },
  {
   "cell_type": "markdown",
   "metadata": {
    "id": "nlSsCvODj6Es"
   },
   "source": [
    "## Import Dataset for Project"
   ]
  },
  {
   "cell_type": "code",
   "execution_count": 2,
   "metadata": {
    "colab": {
     "base_uri": "https://localhost:8080/",
     "height": 223
    },
    "id": "ZoTBg74jipHt",
    "outputId": "0a236833-9309-45bc-8861-bd94702897fb"
   },
   "outputs": [
    {
     "data": {
      "text/html": [
       "<div>\n",
       "<style scoped>\n",
       "    .dataframe tbody tr th:only-of-type {\n",
       "        vertical-align: middle;\n",
       "    }\n",
       "\n",
       "    .dataframe tbody tr th {\n",
       "        vertical-align: top;\n",
       "    }\n",
       "\n",
       "    .dataframe thead th {\n",
       "        text-align: right;\n",
       "    }\n",
       "</style>\n",
       "<table border=\"1\" class=\"dataframe\">\n",
       "  <thead>\n",
       "    <tr style=\"text-align: right;\">\n",
       "      <th></th>\n",
       "      <th>Review</th>\n",
       "      <th>Liked</th>\n",
       "    </tr>\n",
       "  </thead>\n",
       "  <tbody>\n",
       "    <tr>\n",
       "      <th>0</th>\n",
       "      <td>Wow... Loved this place.</td>\n",
       "      <td>1</td>\n",
       "    </tr>\n",
       "    <tr>\n",
       "      <th>1</th>\n",
       "      <td>Crust is not good.</td>\n",
       "      <td>0</td>\n",
       "    </tr>\n",
       "    <tr>\n",
       "      <th>2</th>\n",
       "      <td>Not tasty and the texture was just nasty.</td>\n",
       "      <td>0</td>\n",
       "    </tr>\n",
       "    <tr>\n",
       "      <th>3</th>\n",
       "      <td>Stopped by during the late May bank holiday of...</td>\n",
       "      <td>1</td>\n",
       "    </tr>\n",
       "    <tr>\n",
       "      <th>4</th>\n",
       "      <td>The selection on the menu was great and so wer...</td>\n",
       "      <td>1</td>\n",
       "    </tr>\n",
       "  </tbody>\n",
       "</table>\n",
       "</div>"
      ],
      "text/plain": [
       "                                              Review  Liked\n",
       "0                           Wow... Loved this place.      1\n",
       "1                                 Crust is not good.      0\n",
       "2          Not tasty and the texture was just nasty.      0\n",
       "3  Stopped by during the late May bank holiday of...      1\n",
       "4  The selection on the menu was great and so wer...      1"
      ]
     },
     "execution_count": 2,
     "metadata": {},
     "output_type": "execute_result"
    }
   ],
   "source": [
    "# dataset in drive\n",
    "data = pd.read_csv(\"Restaurant_Reviews.tsv\", delimiter='\\t', quoting=3)\n",
    "\n",
    "data.head()"
   ]
  },
  {
   "cell_type": "code",
   "execution_count": 3,
   "metadata": {
    "colab": {
     "base_uri": "https://localhost:8080/"
    },
    "id": "_UCGRJsImPZZ",
    "outputId": "54515484-cb38-4d97-a7a7-e9240f9d17be"
   },
   "outputs": [
    {
     "name": "stdout",
     "output_type": "stream",
     "text": [
      "Shape of dataset :  (1000, 2)\n",
      "Column headings :  Index(['Review', 'Liked'], dtype='object')\n"
     ]
    }
   ],
   "source": [
    "# Shape and column names of dataset\n",
    "\n",
    "print(\"Shape of dataset : \", data.shape)\n",
    "print(\"Column headings : \", data.columns)"
   ]
  },
  {
   "cell_type": "markdown",
   "metadata": {
    "id": "tYNyEWZMmzjK"
   },
   "source": [
    "## Data Preprocessing"
   ]
  },
  {
   "cell_type": "code",
   "execution_count": 4,
   "metadata": {
    "colab": {
     "base_uri": "https://localhost:8080/"
    },
    "id": "8R7qaqKcmuGx",
    "outputId": "19156131-8469-49bf-ed3b-3cea1ed65fe7"
   },
   "outputs": [
    {
     "name": "stderr",
     "output_type": "stream",
     "text": [
      "[nltk_data] Downloading package stopwords to\n",
      "[nltk_data]     C:\\Users\\asus\\AppData\\Roaming\\nltk_data...\n",
      "[nltk_data]   Package stopwords is already up-to-date!\n"
     ]
    }
   ],
   "source": [
    "import nltk\n",
    "import re\n",
    "nltk.download('stopwords')\n",
    "from nltk.corpus import stopwords\n",
    "from nltk.stem.porter import PorterStemmer"
   ]
  },
  {
   "cell_type": "code",
   "execution_count": 5,
   "metadata": {
    "id": "ChXSpC0TnOKz"
   },
   "outputs": [],
   "source": [
    "no_of_rows = data.shape[0]\n",
    "stop_words = set(stopwords.words('english'))\n",
    "corpus = []\n",
    "for i in range(no_of_rows):\n",
    "    review = re.sub(pattern='[^a-zA-Z]', repl=' ', string=data['Review'][i])\n",
    "    review = review.lower()\n",
    "    review_words = review.split()\n",
    "    review_words = [word for word in review_words if not word in stop_words]\n",
    "    ps = PorterStemmer()\n",
    "    review = [ps.stem(word) for word in review_words]\n",
    "    review = ' '.join(review)\n",
    "    corpus.append(review)"
   ]
  },
  {
   "cell_type": "code",
   "execution_count": 6,
   "metadata": {
    "colab": {
     "base_uri": "https://localhost:8080/"
    },
    "id": "TbMvPUKKo_Xy",
    "outputId": "4dd6aa98-5df7-461b-bb98-49664343f6aa"
   },
   "outputs": [
    {
     "data": {
      "text/plain": [
       "['wow love place',\n",
       " 'crust good',\n",
       " 'tasti textur nasti',\n",
       " 'stop late may bank holiday rick steve recommend love',\n",
       " 'select menu great price',\n",
       " 'get angri want damn pho',\n",
       " 'honeslti tast fresh',\n",
       " 'potato like rubber could tell made ahead time kept warmer',\n",
       " 'fri great',\n",
       " 'great touch',\n",
       " 'servic prompt',\n",
       " 'would go back',\n",
       " 'cashier care ever say still end wayyy overpr',\n",
       " 'tri cape cod ravoli chicken cranberri mmmm',\n",
       " 'disgust pretti sure human hair',\n",
       " 'shock sign indic cash',\n",
       " 'highli recommend',\n",
       " 'waitress littl slow servic',\n",
       " 'place worth time let alon vega',\n",
       " 'like',\n",
       " 'burritto blah',\n",
       " 'food amaz',\n",
       " 'servic also cute',\n",
       " 'could care less interior beauti',\n",
       " 'perform',\n",
       " 'right red velvet cake ohhh stuff good',\n",
       " 'never brought salad ask',\n",
       " 'hole wall great mexican street taco friendli staff',\n",
       " 'took hour get food tabl restaur food luke warm sever run around like total overwhelm',\n",
       " 'worst salmon sashimi',\n",
       " 'also combo like burger fri beer decent deal',\n",
       " 'like final blow',\n",
       " 'found place accid could happier',\n",
       " 'seem like good quick place grab bite familiar pub food favor look elsewher',\n",
       " 'overal like place lot',\n",
       " 'redeem qualiti restaur inexpens',\n",
       " 'ampl portion good price',\n",
       " 'poor servic waiter made feel like stupid everi time came tabl',\n",
       " 'first visit hiro delight',\n",
       " 'servic suck',\n",
       " 'shrimp tender moist',\n",
       " 'deal good enough would drag establish',\n",
       " 'hard judg whether side good gross melt styrofoam want eat fear get sick',\n",
       " 'posit note server attent provid great servic',\n",
       " 'frozen puck disgust worst peopl behind regist',\n",
       " 'thing like prime rib dessert section',\n",
       " 'bad food damn gener',\n",
       " 'burger good beef cook right',\n",
       " 'want sandwich go firehous',\n",
       " 'side greek salad greek dress tasti pita hummu refresh',\n",
       " 'order duck rare pink tender insid nice char outsid',\n",
       " 'came run us realiz husband left sunglass tabl',\n",
       " 'chow mein good',\n",
       " 'horribl attitud toward custom talk one custom enjoy food',\n",
       " 'portion huge',\n",
       " 'love friendli server great food wonder imagin menu',\n",
       " 'heart attack grill downtown vega absolut flat line excus restaur',\n",
       " 'much seafood like string pasta bottom',\n",
       " 'salad right amount sauc power scallop perfectli cook',\n",
       " 'rip banana rip petrifi tasteless',\n",
       " 'least think refil water struggl wave minut',\n",
       " 'place receiv star appet',\n",
       " 'cocktail handmad delici',\n",
       " 'definit go back',\n",
       " 'glad found place',\n",
       " 'great food servic huge portion give militari discount',\n",
       " 'alway great time do gringo',\n",
       " 'updat went back second time still amaz',\n",
       " 'got food appar never heard salt batter fish chewi',\n",
       " 'great way finish great',\n",
       " 'deal includ tast drink jeff went beyond expect',\n",
       " 'realli realli good rice time',\n",
       " 'servic meh',\n",
       " 'took min get milkshak noth chocol milk',\n",
       " 'guess known place would suck insid excalibur use common sens',\n",
       " 'scallop dish quit appal valu well',\n",
       " 'time bad custom servic',\n",
       " 'sweet potato fri good season well',\n",
       " 'today second time lunch buffet pretti good',\n",
       " 'much good food vega feel cheat wast eat opportun go rice compani',\n",
       " 'come like experienc underwhelm relationship parti wait person ask break',\n",
       " 'walk place smell like old greas trap other eat',\n",
       " 'turkey roast beef bland',\n",
       " 'place',\n",
       " 'pan cake everyon rave tast like sugari disast tailor palat six year old',\n",
       " 'love pho spring roll oh yummi tri',\n",
       " 'poor batter meat ratio made chicken tender unsatisfi',\n",
       " 'say food amaz',\n",
       " 'omelet die',\n",
       " 'everyth fresh delici',\n",
       " 'summari larg disappoint dine experi',\n",
       " 'like realli sexi parti mouth outrag flirt hottest person parti',\n",
       " 'never hard rock casino never ever step forward',\n",
       " 'best breakfast buffet',\n",
       " 'say bye bye tip ladi',\n",
       " 'never go',\n",
       " 'back',\n",
       " 'food arriv quickli',\n",
       " 'good',\n",
       " 'side cafe serv realli good food',\n",
       " 'server fantast found wife love roast garlic bone marrow ad extra meal anoth marrow go',\n",
       " 'good thing waiter help kept bloddi mari come',\n",
       " 'best buffet town price cannot beat',\n",
       " 'love mussel cook wine reduct duck tender potato dish delici',\n",
       " 'one better buffet',\n",
       " 'went tigerlilli fantast afternoon',\n",
       " 'food delici bartend attent person got great deal',\n",
       " 'ambienc wonder music play',\n",
       " 'go back next trip',\n",
       " 'sooooo good',\n",
       " 'real sushi lover let honest yama good',\n",
       " 'least min pass us order food arriv busi',\n",
       " 'realli fantast thai restaur definit worth visit',\n",
       " 'nice spici tender',\n",
       " 'good price',\n",
       " 'check',\n",
       " 'pretti gross',\n",
       " 'better atmospher',\n",
       " 'kind hard mess steak',\n",
       " 'although much like look sound place actual experi bit disappoint',\n",
       " 'know place manag serv blandest food ever eaten prepar indian cuisin',\n",
       " 'worst servic boot least worri',\n",
       " 'servic fine waitress friendli',\n",
       " 'guy steak steak love son steak best worst place said best steak ever eaten',\n",
       " 'thought ventur away get good sushi place realli hit spot night',\n",
       " 'host staff lack better word bitch',\n",
       " 'bland like place number reason want wast time bad review leav',\n",
       " 'phenomen food servic ambianc',\n",
       " 'return',\n",
       " 'definit worth ventur strip pork belli return next time vega',\n",
       " 'place way overpr mediocr food',\n",
       " 'penn vodka excel',\n",
       " 'good select food includ massiv meatloaf sandwich crispi chicken wrap delish tuna melt tasti burger',\n",
       " 'manag rude',\n",
       " 'delici nyc bagel good select cream chees real lox caper even',\n",
       " 'great subway fact good come everi subway meet expect',\n",
       " 'serious solid breakfast',\n",
       " 'one best bar food vega',\n",
       " 'extrem rude realli mani restaur would love dine weekend vega',\n",
       " 'drink never empti made realli great menu suggest',\n",
       " '',\n",
       " 'waiter help friendli rare check us',\n",
       " 'husband ate lunch disappoint food servic',\n",
       " 'red curri much bamboo shoot tasti',\n",
       " 'nice blanket moz top feel like done cover subpar food',\n",
       " 'bathroom clean place well decor',\n",
       " 'menu alway chang food qualiti go servic extrem slow',\n",
       " 'servic littl slow consid serv peopl server food come slow pace',\n",
       " 'give thumb',\n",
       " 'watch waiter pay lot attent tabl ignor us',\n",
       " 'fianc came middl day greet seat right away',\n",
       " 'great restaur mandalay bay',\n",
       " 'wait forti five minut vain',\n",
       " 'crostini came salad stale',\n",
       " 'highlight great qualiti nigiri',\n",
       " 'staff friendli joint alway clean',\n",
       " 'differ cut piec day still wonder tender well well flavor',\n",
       " 'order voodoo pasta first time realli excel pasta sinc go gluten free sever year ago',\n",
       " 'place good',\n",
       " 'unfortun must hit bakeri leftov day everyth order stale',\n",
       " 'came back today sinc reloc still impress',\n",
       " 'seat immedi',\n",
       " 'menu divers reason price',\n",
       " 'avoid cost',\n",
       " 'restaur alway full never wait',\n",
       " 'delici',\n",
       " 'place hand one best place eat phoenix metro area',\n",
       " 'go look good food',\n",
       " 'never treat bad',\n",
       " 'bacon hella salti',\n",
       " 'also order spinach avocado salad ingredi sad dress liter zero tast',\n",
       " 'realli vega fine dine use right menu hand ladi price list',\n",
       " 'waitress friendli',\n",
       " 'lordi khao soi dish miss curri lover',\n",
       " 'everyth menu terrif also thrill made amaz accommod vegetarian daughter',\n",
       " 'perhap caught night judg review inspir go back',\n",
       " 'servic leav lot desir',\n",
       " 'atmospher modern hip maintain touch cozi',\n",
       " 'weekli haunt definit place come back everi',\n",
       " 'liter sat minut one ask take order',\n",
       " 'burger absolut flavor meat total bland burger overcook charcoal flavor',\n",
       " 'also decid send back waitress look like verg heart attack',\n",
       " 'dress treat rude',\n",
       " 'probabl dirt',\n",
       " 'love place hit spot want someth healthi lack quantiti flavor',\n",
       " 'order lemon raspberri ice cocktail also incred',\n",
       " 'food suck expect suck could imagin',\n",
       " 'interest decor',\n",
       " 'realli like crepe station',\n",
       " 'also serv hot bread butter home made potato chip bacon bit top origin good',\n",
       " 'watch prepar delici food',\n",
       " 'egg roll fantast',\n",
       " 'order arriv one gyro miss',\n",
       " 'salad wing ice cream dessert left feel quit satisfi',\n",
       " 'realli sure joey vote best hot dog valley reader phoenix magazin',\n",
       " 'best place go tasti bowl pho',\n",
       " 'live music friday total blow',\n",
       " 'never insult felt disrespect',\n",
       " 'friendli staff',\n",
       " 'worth drive',\n",
       " 'heard good thing place exceed everi hope could dream',\n",
       " 'food great serivc',\n",
       " 'warm beer help',\n",
       " 'great brunch spot',\n",
       " 'servic friendli invit',\n",
       " 'good lunch spot',\n",
       " 'live sinc first last time step foot place',\n",
       " 'worst experi ever',\n",
       " 'must night place',\n",
       " 'side delish mix mushroom yukon gold pure white corn beateou',\n",
       " 'bug never show would given sure side wall bug climb kitchen',\n",
       " 'minut wait salad realiz come time soon',\n",
       " 'friend love salmon tartar',\n",
       " 'go back',\n",
       " 'extrem tasti',\n",
       " 'waitress good though',\n",
       " 'soggi good',\n",
       " 'jamaican mojito delici',\n",
       " 'small worth price',\n",
       " 'food rich order accordingli',\n",
       " 'shower area outsid rins take full shower unless mind nude everyon see',\n",
       " 'servic bit lack',\n",
       " 'lobster bisqu bussel sprout risotto filet need salt pepper cours none tabl',\n",
       " 'hope bode go busi someon cook come',\n",
       " 'either cold enough flavor bad',\n",
       " 'love bacon wrap date',\n",
       " 'unbeliev bargain',\n",
       " 'folk otto alway make us feel welcom special',\n",
       " 'main also uninspir',\n",
       " 'place first pho amaz',\n",
       " 'wonder experi made place must stop whenev town',\n",
       " 'food bad enough enjoy deal world worst annoy drunk peopl',\n",
       " 'fun chef',\n",
       " 'order doubl cheeseburg got singl patti fall apart pictur upload yeah still suck',\n",
       " 'great place coupl drink watch sport event wall cover tv',\n",
       " 'possibl give zero star',\n",
       " 'descript said yum yum sauc anoth said eel sauc yet anoth said spici mayo well none roll sauc',\n",
       " 'say would hardest decis honestli dish tast suppos tast amaz',\n",
       " 'roll eye may stay sure go back tri',\n",
       " 'everyon attent provid excel custom servic',\n",
       " 'horribl wast time money',\n",
       " 'dish quit flavour',\n",
       " 'time side restaur almost empti excus',\n",
       " 'busi either also build freez cold',\n",
       " 'like review said pay eat place',\n",
       " 'drink took close minut come one point',\n",
       " 'serious flavor delight folk',\n",
       " 'much better ayc sushi place went vega',\n",
       " 'light dark enough set mood',\n",
       " 'base sub par servic receiv effort show gratitud busi go back',\n",
       " 'owner realli great peopl',\n",
       " 'noth privileg work eat',\n",
       " 'greek dress creami flavor',\n",
       " 'overal think would take parent place made similar complaint silent felt',\n",
       " 'pizza good peanut sauc tasti',\n",
       " 'tabl servic pretti fast',\n",
       " 'fantast servic',\n",
       " 'well would given godfath zero star possibl',\n",
       " 'know make',\n",
       " 'tough short flavor',\n",
       " 'hope place stick around',\n",
       " 'bar vega ever recal charg tap water',\n",
       " 'restaur atmospher exquisit',\n",
       " 'good servic clean inexpens boot',\n",
       " 'seafood fresh gener portion',\n",
       " 'plu buck',\n",
       " 'servic par either',\n",
       " 'thu far visit twice food absolut delici time',\n",
       " 'good year ago',\n",
       " 'self proclaim coffe cafe wildli disappoint',\n",
       " 'veggitarian platter world',\n",
       " 'cant go wrong food',\n",
       " 'beat',\n",
       " 'stop place madison ironman friendli kind staff',\n",
       " 'chef friendli good job',\n",
       " 'better dedic boba tea spot even jenni pho',\n",
       " 'like patio servic outstand',\n",
       " 'goat taco skimp meat wow flavor',\n",
       " 'think',\n",
       " 'mac salad pretti bland get',\n",
       " 'went bachi burger friend recommend disappoint',\n",
       " 'servic stink',\n",
       " 'wait wait',\n",
       " 'place qualiti sushi qualiti restaur',\n",
       " 'would definit recommend wing well pizza',\n",
       " 'great pizza salad',\n",
       " 'thing went wrong burn saganaki',\n",
       " 'wait hour breakfast could done time better home',\n",
       " 'place amaz',\n",
       " 'hate disagre fellow yelper husband disappoint place',\n",
       " 'wait hour never got either pizza mani around us came later',\n",
       " 'know slow',\n",
       " 'staff great food delish incred beer select',\n",
       " 'live neighborhood disappoint back conveni locat',\n",
       " 'know pull pork could soooo delici',\n",
       " 'get incred fresh fish prepar care',\n",
       " 'go gave star rate pleas know third time eat bachi burger write review',\n",
       " 'love fact everyth menu worth',\n",
       " 'never dine place',\n",
       " 'food excel servic good',\n",
       " 'good beer drink select good food select',\n",
       " 'pleas stay away shrimp stir fri noodl',\n",
       " 'potato chip order sad could probabl count mani chip box probabl around',\n",
       " 'food realli bore',\n",
       " 'good servic check',\n",
       " 'greedi corpor never see anoth dime',\n",
       " 'never ever go back',\n",
       " 'much like go back get pass atroci servic never return',\n",
       " 'summer dine charm outdoor patio delight',\n",
       " 'expect good',\n",
       " 'fantast food',\n",
       " 'order toast english muffin came untoast',\n",
       " 'food good',\n",
       " 'never go back',\n",
       " 'great food price high qualiti hous made',\n",
       " 'bu boy hand rude',\n",
       " 'point friend basic figur place joke mind make publicli loudli known',\n",
       " 'back good bbq lighter fare reason price tell public back old way',\n",
       " 'consid two us left full happi go wrong',\n",
       " 'bread made hous',\n",
       " 'downsid servic',\n",
       " 'also fri without doubt worst fri ever',\n",
       " 'servic except food good review',\n",
       " 'coupl month later return amaz meal',\n",
       " 'favorit place town shawarrrrrrma',\n",
       " 'black eye pea sweet potato unreal',\n",
       " 'disappoint',\n",
       " 'could serv vinaigrett may make better overal dish still good',\n",
       " 'go far mani place never seen restaur serv egg breakfast especi',\n",
       " 'mom got home immedi got sick bite salad',\n",
       " 'server pleasant deal alway honor pizza hut coupon',\n",
       " 'truli unbeliev good glad went back',\n",
       " 'fantast servic pleas atmospher',\n",
       " 'everyth gross',\n",
       " 'love place',\n",
       " 'great servic food',\n",
       " 'first bathroom locat dirti seat cover replenish plain yucki',\n",
       " 'burger got gold standard burger kind disappoint',\n",
       " 'omg food delicioso',\n",
       " 'noth authent place',\n",
       " 'spaghetti noth special whatsoev',\n",
       " 'dish salmon best great',\n",
       " 'veget fresh sauc feel like authent thai',\n",
       " 'worth drive tucson',\n",
       " 'select probabl worst seen vega none',\n",
       " 'pretti good beer select',\n",
       " 'place like chipotl better',\n",
       " 'classi warm atmospher fun fresh appet succul steak basebal steak',\n",
       " 'star brick oven bread app',\n",
       " 'eaten multipl time time food delici',\n",
       " 'sat anoth ten minut final gave left',\n",
       " 'terribl',\n",
       " 'everyon treat equal special',\n",
       " 'take min pancak egg',\n",
       " 'delici',\n",
       " 'good side staff genuin pleasant enthusiast real treat',\n",
       " 'sadli gordon ramsey steak place shall sharpli avoid next trip vega',\n",
       " 'alway even wonder food delici',\n",
       " 'best fish ever life',\n",
       " 'bathroom next door nice',\n",
       " 'buffet small food offer bland',\n",
       " 'outstand littl restaur best food ever tast',\n",
       " 'pretti cool would say',\n",
       " 'definit turn doubt back unless someon els buy',\n",
       " 'server great job handl larg rowdi tabl',\n",
       " 'find wast food despic food',\n",
       " 'wife lobster bisqu soup lukewarm',\n",
       " 'would come back sushi crave vega',\n",
       " 'staff great ambianc great',\n",
       " 'deserv star',\n",
       " 'left stomach ach felt sick rest day',\n",
       " 'drop ball',\n",
       " 'dine space tini elegantli decor comfort',\n",
       " 'custom order way like usual eggplant green bean stir fri love',\n",
       " 'bean rice mediocr best',\n",
       " 'best taco town far',\n",
       " 'took back money got outta',\n",
       " 'interest part town place amaz',\n",
       " 'rude inconsider manag',\n",
       " 'staff friendli wait time serv horribl one even say hi first minut',\n",
       " 'back',\n",
       " 'great dinner',\n",
       " 'servic outshin definit recommend halibut',\n",
       " 'food terribl',\n",
       " 'never ever go back told mani peopl happen',\n",
       " 'recommend unless car break front starv',\n",
       " 'come back everi time vega',\n",
       " 'place deserv one star food',\n",
       " 'disgrac',\n",
       " 'def come back bowl next time',\n",
       " 'want healthi authent ethic food tri place',\n",
       " 'continu come ladi night andddd date night highli recommend place anyon area',\n",
       " 'sever time past experi alway great',\n",
       " 'walk away stuf happi first vega buffet experi',\n",
       " 'servic excel price pretti reason consid vega locat insid crystal shop mall aria',\n",
       " 'summar food incred nay transcend noth bring joy quit like memori pneumat condiment dispens',\n",
       " 'probabl one peopl ever go ian like',\n",
       " 'kid pizza alway hit lot great side dish option kiddo',\n",
       " 'servic perfect famili atmospher nice see',\n",
       " 'cook perfect servic impecc',\n",
       " 'one simpli disappoint',\n",
       " 'overal disappoint qualiti food bouchon',\n",
       " 'account know get screw',\n",
       " 'great place eat remind littl mom pop shop san francisco bay area',\n",
       " 'today first tast buldogi gourmet hot dog tell ever thought possibl',\n",
       " 'left frustrat',\n",
       " 'definit soon',\n",
       " 'food realli good got full petti fast',\n",
       " 'servic fantast',\n",
       " 'total wast time',\n",
       " 'know kind best ice tea',\n",
       " 'come hungri leav happi stuf',\n",
       " 'servic give star',\n",
       " 'assur disappoint',\n",
       " 'take littl bad servic food suck',\n",
       " 'gave tri eat crust teeth still sore',\n",
       " 'complet gross',\n",
       " 'realli enjoy eat',\n",
       " 'first time go think quickli becom regular',\n",
       " 'server nice even though look littl overwhelm need stay profession friendli end',\n",
       " 'dinner companion told everyth fresh nice textur tast',\n",
       " 'ground right next tabl larg smear step track everywher pile green bird poop',\n",
       " 'furthermor even find hour oper websit',\n",
       " 'tri like place time think done',\n",
       " 'mistak',\n",
       " 'complaint',\n",
       " 'serious good pizza expert connisseur topic',\n",
       " 'waiter jerk',\n",
       " 'strike want rush',\n",
       " 'nicest restaur owner ever come across',\n",
       " 'never come',\n",
       " 'love biscuit',\n",
       " 'servic quick friendli',\n",
       " 'order appet took minut pizza anoth minut',\n",
       " 'absolutley fantast',\n",
       " 'huge awkward lb piec cow th gristl fat',\n",
       " 'definit come back',\n",
       " 'like steiner dark feel like bar',\n",
       " 'wow spici delici',\n",
       " 'familiar check',\n",
       " 'take busi dinner dollar elsewher',\n",
       " 'love go back',\n",
       " 'anyway fs restaur wonder breakfast lunch',\n",
       " 'noth special',\n",
       " 'day week differ deal delici',\n",
       " 'mention combin pear almond bacon big winner',\n",
       " 'back',\n",
       " 'sauc tasteless',\n",
       " 'food delici spici enough sure ask spicier prefer way',\n",
       " 'ribey steak cook perfectli great mesquit flavor',\n",
       " 'think go back anytim soon',\n",
       " 'food gooodd',\n",
       " 'far sushi connoisseur definit tell differ good food bad food certainli bad food',\n",
       " 'insult',\n",
       " 'last time lunch bad',\n",
       " 'chicken wing contain driest chicken meat ever eaten',\n",
       " 'food good enjoy everi mouth enjoy relax venu coupl small famili group etc',\n",
       " 'nargil think great',\n",
       " 'best tater tot southwest',\n",
       " 'love place',\n",
       " 'definit worth paid',\n",
       " 'vanilla ice cream creami smooth profiterol choux pastri fresh enough',\n",
       " 'im az time new spot',\n",
       " 'manag worst',\n",
       " 'insid realli quit nice clean',\n",
       " 'food outstand price reason',\n",
       " 'think run back carli anytim soon food',\n",
       " 'due fact took minut acknowledg anoth minut get food kept forget thing',\n",
       " 'love margarita',\n",
       " 'first vega buffet disappoint',\n",
       " 'good though',\n",
       " 'one note ventil could use upgrad',\n",
       " 'great pork sandwich',\n",
       " 'wast time',\n",
       " 'total letdown would much rather go camelback flower shop cartel coffe',\n",
       " 'third chees friend burger cold',\n",
       " 'enjoy pizza brunch',\n",
       " 'steak well trim also perfectli cook',\n",
       " 'group claim would handl us beauti',\n",
       " 'love',\n",
       " 'ask bill leav without eat bring either',\n",
       " 'place jewel la vega exactli hope find nearli ten year live',\n",
       " 'seafood limit boil shrimp crab leg crab leg definit tast fresh',\n",
       " 'select food best',\n",
       " 'delici absolut back',\n",
       " 'small famili restaur fine dine establish',\n",
       " 'toro tartar cavier extraordinari like thinli slice wagyu white truffl',\n",
       " 'dont think back long time',\n",
       " 'attach ga station rare good sign',\n",
       " 'awesom',\n",
       " 'back mani time soon',\n",
       " 'menu much good stuff could decid',\n",
       " 'wors humili worker right front bunch horribl name call',\n",
       " 'conclus fill meal',\n",
       " 'daili special alway hit group',\n",
       " 'tragedi struck',\n",
       " 'pancak also realli good pretti larg',\n",
       " 'first crawfish experi delici',\n",
       " 'monster chicken fri steak egg time favorit',\n",
       " 'waitress sweet funni',\n",
       " 'also tast mom multi grain pumpkin pancak pecan butter amaz fluffi delici',\n",
       " 'rather eat airlin food serious',\n",
       " 'cant say enough good thing place',\n",
       " 'ambianc incred',\n",
       " 'waitress manag friendli',\n",
       " 'would recommend place',\n",
       " 'overal impress noca',\n",
       " 'gyro basic lettuc',\n",
       " 'terribl servic',\n",
       " 'thoroughli disappoint',\n",
       " 'much pasta love homemad hand made pasta thin pizza',\n",
       " 'give tri happi',\n",
       " 'far best cheesecurd ever',\n",
       " 'reason price also',\n",
       " 'everyth perfect night',\n",
       " 'food good typic bar food',\n",
       " 'drive get',\n",
       " 'first glanc love bakeri cafe nice ambianc clean friendli staff',\n",
       " 'anyway think go back',\n",
       " 'point finger item menu order disappoint',\n",
       " 'oh thing beauti restaur',\n",
       " 'gone go',\n",
       " 'greasi unhealthi meal',\n",
       " 'first time might last',\n",
       " 'burger amaz',\n",
       " 'similarli deliveri man say word apolog food minut late',\n",
       " 'way expens',\n",
       " 'sure order dessert even need pack go tiramisu cannoli die',\n",
       " 'first time wait next',\n",
       " 'bartend also nice',\n",
       " 'everyth good tasti',\n",
       " 'place two thumb way',\n",
       " 'best place vega breakfast check sat sun',\n",
       " 'love authent mexican food want whole bunch interest yet delici meat choos need tri place',\n",
       " 'terribl manag',\n",
       " 'excel new restaur experienc frenchman',\n",
       " 'zero star would give zero star',\n",
       " 'great steak great side great wine amaz dessert',\n",
       " 'worst martini ever',\n",
       " 'steak shrimp opinion best entre gc',\n",
       " 'opportun today sampl amaz pizza',\n",
       " 'wait thirti minut seat although vacant tabl folk wait',\n",
       " 'yellowtail carpaccio melt mouth fresh',\n",
       " 'tri go back even empti',\n",
       " 'go eat potato found stranger hair',\n",
       " 'spici enough perfect actual',\n",
       " 'last night second time dine happi decid go back',\n",
       " 'even hello right',\n",
       " 'dessert bit strang',\n",
       " 'boyfriend came first time recent trip vega could pleas qualiti food servic',\n",
       " 'realli recommend place go wrong donut place',\n",
       " 'nice ambianc',\n",
       " 'would recommend save room',\n",
       " 'guess mayb went night disgrac',\n",
       " 'howev recent experi particular locat good',\n",
       " 'know like restaur someth',\n",
       " 'avoid establish',\n",
       " 'think restaur suffer tri hard enough',\n",
       " 'tapa dish delici',\n",
       " 'heart place',\n",
       " 'salad bland vinegrett babi green heart palm',\n",
       " 'two felt disgust',\n",
       " 'good time',\n",
       " 'believ place great stop huge belli hanker sushi',\n",
       " 'gener portion great tast',\n",
       " 'never go back place never ever recommend place anyon',\n",
       " 'server went back forth sever time even much help',\n",
       " 'food delici',\n",
       " 'hour serious',\n",
       " 'consid theft',\n",
       " 'eew locat need complet overhaul',\n",
       " 'recent wit poor qualiti manag toward guest well',\n",
       " 'wait wait wait',\n",
       " 'also came back check us regularli excel servic',\n",
       " 'server super nice check us mani time',\n",
       " 'pizza tast old super chewi good way',\n",
       " 'swung give tri deepli disappoint',\n",
       " 'servic good compani better',\n",
       " 'staff also friendli effici',\n",
       " 'servic fan quick serv nice folk',\n",
       " 'boy sucker dri',\n",
       " 'rate',\n",
       " 'look authent thai food go els',\n",
       " 'steak recommend',\n",
       " 'pull car wait anoth minut acknowledg',\n",
       " 'great food great servic clean friendli set',\n",
       " 'assur back',\n",
       " 'hate thing much cheap qualiti black oliv',\n",
       " 'breakfast perpar great beauti present giant slice toast lightli dust powder sugar',\n",
       " 'kid play area nasti',\n",
       " 'great place fo take eat',\n",
       " 'waitress friendli happi accomod vegan veggi option',\n",
       " 'omg felt like never eaten thai food dish',\n",
       " 'extrem crumbi pretti tasteless',\n",
       " 'pale color instead nice char flavor',\n",
       " 'crouton also tast homemad extra plu',\n",
       " 'got home see driest damn wing ever',\n",
       " 'regular stop trip phoenix',\n",
       " 'realli enjoy crema caf expand even told friend best breakfast',\n",
       " 'good money',\n",
       " 'miss wish one philadelphia',\n",
       " 'got sit fairli fast end wait minut place order anoth minut food arriv',\n",
       " 'also best chees crisp town',\n",
       " 'good valu great food great servic',\n",
       " 'ask satisfi meal',\n",
       " 'food good',\n",
       " 'awesom',\n",
       " 'want leav',\n",
       " 'made drive way north scottsdal one bit disappoint',\n",
       " 'eat',\n",
       " 'owner realli realli need quit soooooo cheap let wrap freak sandwich two paper one',\n",
       " 'check place coupl year ago impress',\n",
       " 'chicken got definit reheat ok wedg cold soggi',\n",
       " 'sorri get food anytim soon',\n",
       " 'absolut must visit',\n",
       " 'cow tongu cheek taco amaz',\n",
       " 'friend like bloodi mari',\n",
       " 'despit hard rate busi actual rare give star',\n",
       " 'realli want make experi good one',\n",
       " 'return',\n",
       " 'chicken pho tast bland',\n",
       " 'disappoint',\n",
       " 'grill chicken tender yellow saffron season',\n",
       " 'drive thru mean want wait around half hour food somehow end go make us wait wait',\n",
       " 'pretti awesom place',\n",
       " 'ambienc perfect',\n",
       " 'best luck rude non custom servic focus new manag',\n",
       " 'grandmoth make roast chicken better one',\n",
       " 'ask multipl time wine list time ignor went hostess got one',\n",
       " 'staff alway super friendli help especi cool bring two small boy babi',\n",
       " 'four star food guy blue shirt great vibe still let us eat',\n",
       " 'roast beef sandwich tast realli good',\n",
       " 'even drastic sick',\n",
       " 'high qualiti chicken chicken caesar salad',\n",
       " 'order burger rare came done',\n",
       " 'promptli greet seat',\n",
       " 'tri go lunch madhous',\n",
       " 'proven dead wrong sushi bar qualiti great servic fast food impecc',\n",
       " 'wait hour seat greatest mood',\n",
       " 'good joint',\n",
       " 'macaron insan good',\n",
       " 'eat',\n",
       " 'waiter attent friendli inform',\n",
       " 'mayb cold would somewhat edibl',\n",
       " 'place lot promis fail deliv',\n",
       " 'bad experi',\n",
       " 'mistak',\n",
       " 'food averag best',\n",
       " 'great food',\n",
       " 'go back anytim soon',\n",
       " 'disappoint order big bay plater',\n",
       " 'great place relax awesom burger beer',\n",
       " 'perfect sit famili meal get togeth friend',\n",
       " 'much flavor poorli construct',\n",
       " 'patio seat comfort',\n",
       " 'fri rice dri well',\n",
       " 'hand favorit italian restaur',\n",
       " 'scream legit book somethat also pretti rare vega',\n",
       " 'fun experi',\n",
       " 'atmospher great love duo violinist play song request',\n",
       " 'person love hummu pita baklava falafel baba ganoush amaz eggplant',\n",
       " 'conveni sinc stay mgm',\n",
       " 'owner super friendli staff courteou',\n",
       " 'great',\n",
       " 'eclect select',\n",
       " 'sweet potato tot good onion ring perfect close',\n",
       " 'staff attent',\n",
       " 'chef gener time even came around twice take pictur',\n",
       " 'owner use work nobu place realli similar half price',\n",
       " 'googl mediocr imagin smashburg pop',\n",
       " 'dont go',\n",
       " 'promis disappoint',\n",
       " 'sushi lover avoid place mean',\n",
       " 'great doubl cheeseburg',\n",
       " 'awesom servic food',\n",
       " 'fantast neighborhood gem',\n",
       " 'wait go back',\n",
       " 'plantain worst ever tast',\n",
       " 'great place highli recommend',\n",
       " 'servic slow attent',\n",
       " 'gave star give star',\n",
       " 'staff spend time talk',\n",
       " 'dessert panna cotta amaz',\n",
       " 'good food great atmospher',\n",
       " 'damn good steak',\n",
       " 'total brunch fail',\n",
       " 'price reason flavor spot sauc home made slaw drench mayo',\n",
       " 'decor nice piano music soundtrack pleasant',\n",
       " 'steak amaz rge fillet relleno best seafood plate ever',\n",
       " 'good food good servic',\n",
       " 'absolut amaz',\n",
       " 'probabl back honest',\n",
       " 'definit back',\n",
       " 'sergeant pepper beef sandwich auju sauc excel sandwich well',\n",
       " 'hawaiian breez mango magic pineappl delight smoothi tri far good',\n",
       " 'went lunch servic slow',\n",
       " 'much say place walk expect amaz quickli disappoint',\n",
       " 'mortifi',\n",
       " 'needless say never back',\n",
       " 'anyway food definit fill price pay expect',\n",
       " 'chip came drip greas mostli edibl',\n",
       " 'realli impress strip steak',\n",
       " 'go sinc everi meal awesom',\n",
       " 'server nice attent serv staff',\n",
       " 'cashier friendli even brought food',\n",
       " 'work hospit industri paradis valley refrain recommend cibo longer',\n",
       " 'atmospher fun',\n",
       " 'would recommend other',\n",
       " 'servic quick even go order like like',\n",
       " 'mean realli get famou fish chip terribl',\n",
       " 'said mouth belli still quit pleas',\n",
       " 'thing',\n",
       " 'thumb',\n",
       " 'read pleas go',\n",
       " 'love grill pizza remind legit italian pizza',\n",
       " 'pro larg seat area nice bar area great simpl drink menu best brick oven pizza homemad dough',\n",
       " 'realli nice atmospher',\n",
       " 'tonight elk filet special suck',\n",
       " 'one bite hook',\n",
       " 'order old classic new dish go time sore disappoint everyth',\n",
       " 'cute quaint simpl honest',\n",
       " 'chicken delici season perfect fri outsid moist chicken insid',\n",
       " 'food great alway compliment chef',\n",
       " 'special thank dylan recommend order yummi tummi',\n",
       " 'awesom select beer',\n",
       " 'great food awesom servic',\n",
       " 'one nice thing ad gratuiti bill sinc parti larger expect tip',\n",
       " 'fli appl juic fli',\n",
       " 'han nan chicken also tasti',\n",
       " 'servic thought good',\n",
       " 'food bare lukewarm must sit wait server bring us',\n",
       " 'ryan bar definit one edinburgh establish revisit',\n",
       " 'nicest chines restaur',\n",
       " 'overal like food servic',\n",
       " 'also serv indian naan bread hummu spici pine nut sauc world',\n",
       " 'probabl never come back recommend',\n",
       " 'friend pasta also bad bare touch',\n",
       " 'tri airport experi tasti food speedi friendli servic',\n",
       " 'love decor chines calligraphi wall paper',\n",
       " 'never anyth complain',\n",
       " 'restaur clean famili restaur feel',\n",
       " 'way fri',\n",
       " 'sure long stood long enough begin feel awkwardli place',\n",
       " 'open sandwich impress good way',\n",
       " 'back',\n",
       " 'warm feel servic felt like guest special treat',\n",
       " 'extens menu provid lot option breakfast',\n",
       " 'alway order vegetarian menu dinner wide array option choos',\n",
       " 'watch price inflat portion get smaller manag attitud grow rapidli',\n",
       " 'wonder lil tapa ambienc made feel warm fuzzi insid',\n",
       " 'got enjoy seafood salad fabul vinegrett',\n",
       " 'wonton thin thick chewi almost melt mouth',\n",
       " 'level spici perfect spice whelm soup',\n",
       " 'sat right time server get go fantast',\n",
       " 'main thing enjoy crowd older crowd around mid',\n",
       " 'side town definit spot hit',\n",
       " 'wait minut get drink longer get arepa',\n",
       " 'great place eat',\n",
       " 'jalapeno bacon soooo good',\n",
       " 'servic poor that nice',\n",
       " 'food good servic good price good',\n",
       " 'place clean food oh stale',\n",
       " 'chicken dish ok beef like shoe leather',\n",
       " 'servic beyond bad',\n",
       " 'happi',\n",
       " 'tast like dirt',\n",
       " 'one place phoenix would defin go back',\n",
       " 'block amaz',\n",
       " 'close hous low key non fanci afford price good food',\n",
       " 'hot sour egg flower soup absolut star',\n",
       " 'sashimi poor qualiti soggi tasteless',\n",
       " 'great time famili dinner sunday night',\n",
       " 'food tasti say real tradit hunan style',\n",
       " 'bother slow servic',\n",
       " 'flair bartend absolut amaz',\n",
       " 'frozen margarita way sugari tast',\n",
       " 'good order twice',\n",
       " 'nutshel restaraunt smell like combin dirti fish market sewer',\n",
       " 'girlfriend veal bad',\n",
       " 'unfortun good',\n",
       " 'pretti satifi experi',\n",
       " 'join club get awesom offer via email',\n",
       " 'perfect someon like beer ice cold case even colder',\n",
       " 'bland flavorless good way describ bare tepid meat',\n",
       " 'chain fan beat place easili',\n",
       " 'nacho must',\n",
       " 'come back',\n",
       " 'mani word say place everyth pretti well',\n",
       " 'staff super nice quick even crazi crowd downtown juri lawyer court staff',\n",
       " 'great atmospher friendli fast servic',\n",
       " 'receiv pita huge lot meat thumb',\n",
       " 'food arriv meh',\n",
       " 'pay hot dog fri look like came kid meal wienerschnitzel idea good meal',\n",
       " 'classic main lobster roll fantast',\n",
       " 'brother law work mall ate day guess sick night',\n",
       " 'good go review place twice herea tribut place tribut event held last night',\n",
       " 'chip salsa realli good salsa fresh',\n",
       " 'place great',\n",
       " 'mediocr food',\n",
       " 'get insid impress place',\n",
       " 'super pissd',\n",
       " 'servic super friendli',\n",
       " 'sad littl veget overcook',\n",
       " 'place nice surpris',\n",
       " 'golden crispi delici',\n",
       " 'high hope place sinc burger cook charcoal grill unfortun tast fell flat way flat',\n",
       " 'could eat bruschetta day devin',\n",
       " 'singl employe came see ok even need water refil final serv us food',\n",
       " 'lastli mozzarella stick best thing order',\n",
       " 'first time ever came amaz experi still tell peopl awesom duck',\n",
       " 'server neglig need made us feel unwelcom would suggest place',\n",
       " 'servic terribl though',\n",
       " 'place overpr consist boba realli overpr',\n",
       " 'pack',\n",
       " 'love place',\n",
       " 'say dessert yummi',\n",
       " 'food terribl',\n",
       " 'season fruit fresh white peach pure',\n",
       " 'kept get wors wors offici done',\n",
       " 'place honestli blown',\n",
       " 'definit would eat',\n",
       " 'wast money',\n",
       " 'love put food nice plastic contain oppos cram littl paper takeout box',\n",
       " 'cr pe delic thin moist',\n",
       " 'aw servic',\n",
       " 'ever go',\n",
       " 'food qualiti horribl',\n",
       " 'price think place would much rather gone',\n",
       " 'servic fair best',\n",
       " 'love sushi found kabuki price hip servic',\n",
       " 'favor stay away dish',\n",
       " 'poor servic',\n",
       " 'one tabl thought food averag worth wait',\n",
       " 'best servic food ever maria server good friendli made day',\n",
       " 'excel',\n",
       " 'paid bill tip felt server terribl job',\n",
       " 'lunch great experi',\n",
       " 'never bland food surpris consid articl read focus much spice flavor',\n",
       " 'food way overpr portion fuck small',\n",
       " 'recent tri caballero back everi week sinc',\n",
       " 'buck head realli expect better food',\n",
       " 'food came good pace',\n",
       " 'ate twice last visit especi enjoy salmon salad',\n",
       " 'back',\n",
       " 'could believ dirti oyster',\n",
       " 'place deserv star',\n",
       " 'would recommend place',\n",
       " 'fact go round star awesom',\n",
       " 'disbelief dish qualifi worst version food ever tast',\n",
       " 'bad day low toler rude custom servic peopl job nice polit wash dish otherwis',\n",
       " 'potato great biscuit',\n",
       " 'probabl would go',\n",
       " 'flavor perfect amount heat',\n",
       " 'price reason servic great',\n",
       " 'wife hate meal coconut shrimp friend realli enjoy meal either',\n",
       " 'fella got huevo ranchero look appeal',\n",
       " 'went happi hour great list wine',\n",
       " 'may say buffet pricey think get pay place get quit lot',\n",
       " 'probabl come back',\n",
       " 'worst food servic',\n",
       " 'place pretti good nice littl vibe restaur',\n",
       " 'talk great custom servic cours back',\n",
       " 'hot dish hot cold dish close room temp watch staff prepar food bare hand glove everyth deep fri oil',\n",
       " 'love fri bean',\n",
       " 'alway pleasur deal',\n",
       " 'plethora salad sandwich everyth tri get seal approv',\n",
       " 'place awesom want someth light healthi summer',\n",
       " 'sushi strip place go',\n",
       " 'servic great even manag came help tabl',\n",
       " 'feel dine room colleg cook cours high class dine servic slow best',\n",
       " 'start review two star edit give one',\n",
       " 'worst sushi ever eat besid costco',\n",
       " 'excel restaur highlight great servic uniqu menu beauti set',\n",
       " 'boyfriend sat bar complet delight experi',\n",
       " 'weird vibe owner',\n",
       " 'hardli meat',\n",
       " 'better bagel groceri store',\n",
       " 'go place gyro',\n",
       " 'love owner chef one authent japanes cool dude',\n",
       " 'burger good pizza use amaz doughi flavorless',\n",
       " 'found six inch long piec wire salsa',\n",
       " 'servic terribl food mediocr',\n",
       " 'defin enjoy',\n",
       " 'order albondiga soup warm tast like tomato soup frozen meatbal',\n",
       " 'three differ occas ask well done medium well three time got bloodiest piec meat plate',\n",
       " 'two bite refus eat anymor',\n",
       " 'servic extrem slow',\n",
       " 'minut wait got tabl',\n",
       " 'serious killer hot chai latt',\n",
       " 'allergi warn menu waitress absolut clue meal contain peanut',\n",
       " 'boyfriend tri mediterranean chicken salad fell love',\n",
       " 'rotat beer tap also highlight place',\n",
       " 'price bit concern mellow mushroom',\n",
       " 'worst thai ever',\n",
       " 'stay vega must get breakfast least',\n",
       " 'want first say server great perfect servic',\n",
       " 'pizza select good',\n",
       " 'strawberri tea good',\n",
       " 'highli unprofession rude loyal patron',\n",
       " 'overal great experi',\n",
       " 'spend money elsewher',\n",
       " 'regular toast bread equal satisfi occasion pat butter mmmm',\n",
       " 'buffet bellagio far anticip',\n",
       " 'drink weak peopl',\n",
       " 'order correct',\n",
       " 'also feel like chip bought made hous',\n",
       " 'disappoint dinner went elsewher dessert',\n",
       " 'chip sal amaz',\n",
       " 'return',\n",
       " 'new fav vega buffet spot',\n",
       " 'serious cannot believ owner mani unexperienc employe run around like chicken head cut',\n",
       " 'sad',\n",
       " 'felt insult disrespect could talk judg anoth human like',\n",
       " 'call steakhous properli cook steak understand',\n",
       " 'impress concept food',\n",
       " 'thing crazi guacamol like pur ed',\n",
       " 'realli noth postino hope experi better',\n",
       " 'got food poison buffet',\n",
       " 'brought fresh batch fri think yay someth warm',\n",
       " 'hilari yummi christma eve dinner rememb biggest fail entir trip us',\n",
       " 'needless say go back anytim soon',\n",
       " 'place disgust',\n",
       " 'everi time eat see care teamwork profession degre',\n",
       " 'ri style calamari joke',\n",
       " 'howev much garlic fondu bare edibl',\n",
       " 'could bare stomach meal complain busi lunch',\n",
       " 'bad lost heart finish',\n",
       " 'also took forev bring us check ask',\n",
       " 'one make scene restaur get definit lost love one',\n",
       " 'disappoint experi',\n",
       " 'food par denni say good',\n",
       " 'want wait mediocr food downright terribl servic place',\n",
       " 'waaaaaayyyyyyyyyi rate say',\n",
       " 'go back',\n",
       " 'place fairli clean food simpli worth',\n",
       " 'place lack style',\n",
       " 'sangria half glass wine full ridicul',\n",
       " 'bother come',\n",
       " 'meat pretti dri slice brisket pull pork',\n",
       " 'build seem pretti neat bathroom pretti trippi eat',\n",
       " 'equal aw',\n",
       " 'probabl hurri go back',\n",
       " 'slow seat even reserv',\n",
       " 'good stretch imagin',\n",
       " 'cashew cream sauc bland veget undercook',\n",
       " 'chipolt ranch dip saus tasteless seem thin water heat',\n",
       " 'bit sweet realli spici enough lack flavor',\n",
       " 'disappoint',\n",
       " 'place horribl way overpr',\n",
       " 'mayb vegetarian fare twice thought averag best',\n",
       " 'busi know',\n",
       " 'tabl outsid also dirti lot time worker alway friendli help menu',\n",
       " 'ambianc feel like buffet set douchey indoor garden tea biscuit',\n",
       " 'con spotti servic',\n",
       " 'fri hot neither burger',\n",
       " 'came back cold',\n",
       " 'food came disappoint ensu',\n",
       " 'real disappoint waiter',\n",
       " 'husband said rude even apolog bad food anyth',\n",
       " 'reason eat would fill night bing drink get carb stomach',\n",
       " 'insult profound deuchebaggeri go outsid smoke break serv solidifi',\n",
       " 'someon order two taco think may part custom servic ask combo ala cart',\n",
       " 'quit disappoint although blame need place door',\n",
       " 'rave review wait eat disappoint',\n",
       " 'del taco pretti nasti avoid possibl',\n",
       " 'hard make decent hamburg',\n",
       " 'like',\n",
       " 'hell go back',\n",
       " 'gotten much better servic pizza place next door servic receiv restaur',\n",
       " 'know big deal place back ya',\n",
       " 'immedi said want talk manag want talk guy shot firebal behind bar',\n",
       " 'ambianc much better',\n",
       " 'unfortun set us disapppoint entre',\n",
       " 'food good',\n",
       " 'server suck wait correct server heimer suck',\n",
       " 'happen next pretti put',\n",
       " 'bad caus know famili own realli want like place',\n",
       " 'overpr get',\n",
       " 'vomit bathroom mid lunch',\n",
       " 'kept look time soon becom minut yet still food',\n",
       " 'place eat circumst would ever return top list',\n",
       " 'start tuna sashimi brownish color obvious fresh',\n",
       " 'food averag',\n",
       " 'sure beat nacho movi would expect littl bit come restaur',\n",
       " 'ha long bay bit flop',\n",
       " 'problem charg sandwich bigger subway sub offer better amount veget',\n",
       " 'shrimp unwrap live mile brushfir liter ice cold',\n",
       " 'lack flavor seem undercook dri',\n",
       " 'realli impress place close',\n",
       " 'would avoid place stay mirag',\n",
       " 'refri bean came meal dri crusti food bland',\n",
       " 'spend money time place els',\n",
       " 'ladi tabl next us found live green caterpillar salad',\n",
       " 'present food aw',\n",
       " 'tell disappoint',\n",
       " 'think food flavor textur lack',\n",
       " 'appetit instantli gone',\n",
       " 'overal impress would go back',\n",
       " 'whole experi underwhelm think go ninja sushi next time',\n",
       " 'wast enough life pour salt wound draw time took bring check']"
      ]
     },
     "execution_count": 6,
     "metadata": {},
     "output_type": "execute_result"
    }
   ],
   "source": [
    "corpus"
   ]
  },
  {
   "cell_type": "code",
   "execution_count": 7,
   "metadata": {
    "id": "jAZbZovkplBm"
   },
   "outputs": [],
   "source": [
    "from sklearn.feature_extraction.text import CountVectorizer\n",
    "cv = CountVectorizer(max_features = 1500)\n",
    "X = cv.fit_transform(corpus).toarray()\n",
    "y = data.iloc[:, 1].values"
   ]
  },
  {
   "cell_type": "markdown",
   "metadata": {
    "id": "kVidrHsKpCt8"
   },
   "source": [
    "## Split data (80:20) [train, test]"
   ]
  },
  {
   "cell_type": "code",
   "execution_count": 8,
   "metadata": {
    "colab": {
     "base_uri": "https://localhost:8080/"
    },
    "id": "6GRVykmupCYI",
    "outputId": "82ed1c0f-bbd7-45de-98e8-8f85b892f957"
   },
   "outputs": [
    {
     "data": {
      "text/plain": [
       "((800, 1500), (200, 1500), (800,), (200,))"
      ]
     },
     "execution_count": 8,
     "metadata": {},
     "output_type": "execute_result"
    }
   ],
   "source": [
    "from sklearn.model_selection import train_test_split\n",
    "X_train, X_test, y_train, y_test = train_test_split(X, y, test_size=0.20, random_state=0)\n",
    "X_train.shape, X_test.shape, y_train.shape, y_test.shape"
   ]
  },
  {
   "cell_type": "markdown",
   "metadata": {
    "id": "tyXSVeenquM-"
   },
   "source": [
    "## Model Training"
   ]
  },
  {
   "cell_type": "code",
   "execution_count": 9,
   "metadata": {
    "colab": {
     "base_uri": "https://localhost:8080/",
     "height": 74
    },
    "id": "ZQ7TN4lIqtjV",
    "outputId": "a5339968-c10f-4c08-8763-bbe51db3559a"
   },
   "outputs": [
    {
     "data": {
      "text/html": [
       "<style>#sk-container-id-1 {color: black;}#sk-container-id-1 pre{padding: 0;}#sk-container-id-1 div.sk-toggleable {background-color: white;}#sk-container-id-1 label.sk-toggleable__label {cursor: pointer;display: block;width: 100%;margin-bottom: 0;padding: 0.3em;box-sizing: border-box;text-align: center;}#sk-container-id-1 label.sk-toggleable__label-arrow:before {content: \"▸\";float: left;margin-right: 0.25em;color: #696969;}#sk-container-id-1 label.sk-toggleable__label-arrow:hover:before {color: black;}#sk-container-id-1 div.sk-estimator:hover label.sk-toggleable__label-arrow:before {color: black;}#sk-container-id-1 div.sk-toggleable__content {max-height: 0;max-width: 0;overflow: hidden;text-align: left;background-color: #f0f8ff;}#sk-container-id-1 div.sk-toggleable__content pre {margin: 0.2em;color: black;border-radius: 0.25em;background-color: #f0f8ff;}#sk-container-id-1 input.sk-toggleable__control:checked~div.sk-toggleable__content {max-height: 200px;max-width: 100%;overflow: auto;}#sk-container-id-1 input.sk-toggleable__control:checked~label.sk-toggleable__label-arrow:before {content: \"▾\";}#sk-container-id-1 div.sk-estimator input.sk-toggleable__control:checked~label.sk-toggleable__label {background-color: #d4ebff;}#sk-container-id-1 div.sk-label input.sk-toggleable__control:checked~label.sk-toggleable__label {background-color: #d4ebff;}#sk-container-id-1 input.sk-hidden--visually {border: 0;clip: rect(1px 1px 1px 1px);clip: rect(1px, 1px, 1px, 1px);height: 1px;margin: -1px;overflow: hidden;padding: 0;position: absolute;width: 1px;}#sk-container-id-1 div.sk-estimator {font-family: monospace;background-color: #f0f8ff;border: 1px dotted black;border-radius: 0.25em;box-sizing: border-box;margin-bottom: 0.5em;}#sk-container-id-1 div.sk-estimator:hover {background-color: #d4ebff;}#sk-container-id-1 div.sk-parallel-item::after {content: \"\";width: 100%;border-bottom: 1px solid gray;flex-grow: 1;}#sk-container-id-1 div.sk-label:hover label.sk-toggleable__label {background-color: #d4ebff;}#sk-container-id-1 div.sk-serial::before {content: \"\";position: absolute;border-left: 1px solid gray;box-sizing: border-box;top: 0;bottom: 0;left: 50%;z-index: 0;}#sk-container-id-1 div.sk-serial {display: flex;flex-direction: column;align-items: center;background-color: white;padding-right: 0.2em;padding-left: 0.2em;position: relative;}#sk-container-id-1 div.sk-item {position: relative;z-index: 1;}#sk-container-id-1 div.sk-parallel {display: flex;align-items: stretch;justify-content: center;background-color: white;position: relative;}#sk-container-id-1 div.sk-item::before, #sk-container-id-1 div.sk-parallel-item::before {content: \"\";position: absolute;border-left: 1px solid gray;box-sizing: border-box;top: 0;bottom: 0;left: 50%;z-index: -1;}#sk-container-id-1 div.sk-parallel-item {display: flex;flex-direction: column;z-index: 1;position: relative;background-color: white;}#sk-container-id-1 div.sk-parallel-item:first-child::after {align-self: flex-end;width: 50%;}#sk-container-id-1 div.sk-parallel-item:last-child::after {align-self: flex-start;width: 50%;}#sk-container-id-1 div.sk-parallel-item:only-child::after {width: 0;}#sk-container-id-1 div.sk-dashed-wrapped {border: 1px dashed gray;margin: 0 0.4em 0.5em 0.4em;box-sizing: border-box;padding-bottom: 0.4em;background-color: white;}#sk-container-id-1 div.sk-label label {font-family: monospace;font-weight: bold;display: inline-block;line-height: 1.2em;}#sk-container-id-1 div.sk-label-container {text-align: center;}#sk-container-id-1 div.sk-container {/* jupyter's `normalize.less` sets `[hidden] { display: none; }` but bootstrap.min.css set `[hidden] { display: none !important; }` so we also need the `!important` here to be able to override the default hidden behavior on the sphinx rendered scikit-learn.org. See: https://github.com/scikit-learn/scikit-learn/issues/21755 */display: inline-block !important;position: relative;}#sk-container-id-1 div.sk-text-repr-fallback {display: none;}</style><div id=\"sk-container-id-1\" class=\"sk-top-container\"><div class=\"sk-text-repr-fallback\"><pre>MultinomialNB()</pre><b>In a Jupyter environment, please rerun this cell to show the HTML representation or trust the notebook. <br />On GitHub, the HTML representation is unable to render, please try loading this page with nbviewer.org.</b></div><div class=\"sk-container\" hidden><div class=\"sk-item\"><div class=\"sk-estimator sk-toggleable\"><input class=\"sk-toggleable__control sk-hidden--visually\" id=\"sk-estimator-id-1\" type=\"checkbox\" checked><label for=\"sk-estimator-id-1\" class=\"sk-toggleable__label sk-toggleable__label-arrow\">MultinomialNB</label><div class=\"sk-toggleable__content\"><pre>MultinomialNB()</pre></div></div></div></div></div>"
      ],
      "text/plain": [
       "MultinomialNB()"
      ]
     },
     "execution_count": 9,
     "metadata": {},
     "output_type": "execute_result"
    }
   ],
   "source": [
    "from sklearn.naive_bayes import MultinomialNB\n",
    "\n",
    "classifier = MultinomialNB()\n",
    "classifier.fit(X_train, y_train)"
   ]
  },
  {
   "cell_type": "code",
   "execution_count": 10,
   "metadata": {
    "colab": {
     "base_uri": "https://localhost:8080/"
    },
    "id": "wUSv-AgHqgFk",
    "outputId": "e5ac0f3a-0fb7-4d71-a00d-3cd86b6ec42f"
   },
   "outputs": [
    {
     "data": {
      "text/plain": [
       "array([0, 0, 0, 0, 0, 0, 1, 0, 0, 1, 1, 1, 1, 1, 1, 1, 0, 0, 0, 1, 0, 0,\n",
       "       1, 1, 1, 1, 1, 1, 1, 1, 1, 1, 1, 1, 1, 0, 0, 0, 0, 1, 1, 1, 1, 0,\n",
       "       0, 0, 1, 1, 0, 0, 1, 1, 1, 1, 1, 0, 1, 1, 0, 1, 1, 0, 0, 1, 0, 0,\n",
       "       1, 0, 1, 0, 1, 1, 1, 0, 0, 0, 0, 1, 0, 1, 1, 1, 1, 0, 1, 1, 1, 0,\n",
       "       1, 1, 0, 1, 0, 0, 0, 0, 0, 0, 0, 0, 0, 1, 1, 1, 0, 1, 1, 1, 0, 0,\n",
       "       0, 1, 0, 1, 1, 0, 1, 1, 1, 1, 1, 0, 1, 1, 0, 0, 1, 1, 0, 0, 1, 1,\n",
       "       0, 0, 1, 1, 1, 1, 1, 1, 0, 1, 1, 0, 0, 0, 0, 0, 1, 0, 1, 0, 1, 1,\n",
       "       1, 0, 1, 0, 1, 1, 0, 0, 1, 1, 0, 0, 1, 0, 0, 0, 0, 1, 1, 0, 0, 1,\n",
       "       0, 1, 0, 0, 1, 0, 0, 1, 0, 0, 0, 1, 0, 1, 1, 0, 1, 0, 0, 0, 1, 1,\n",
       "       0, 1], dtype=int64)"
      ]
     },
     "execution_count": 10,
     "metadata": {},
     "output_type": "execute_result"
    }
   ],
   "source": [
    "y_pred = classifier.predict(X_test)\n",
    "y_pred"
   ]
  },
  {
   "cell_type": "markdown",
   "metadata": {},
   "source": [
    "# NAIVE BAYES"
   ]
  },
  {
   "cell_type": "code",
   "execution_count": 11,
   "metadata": {
    "colab": {
     "base_uri": "https://localhost:8080/"
    },
    "id": "E7j06N9frTfP",
    "outputId": "27d4c146-7eea-41c3-e91d-13b5be38a32c"
   },
   "outputs": [
    {
     "name": "stdout",
     "output_type": "stream",
     "text": [
      "-----------Scores-----------\n",
      "Accuracy score is: 76.5%\n",
      "Precision score is: 76.42%\n",
      "Recall score is: 78.64%\n"
     ]
    }
   ],
   "source": [
    "from sklearn.metrics import accuracy_score\n",
    "from sklearn.metrics import precision_score\n",
    "from sklearn.metrics import recall_score\n",
    "\n",
    "score1 = accuracy_score(y_test, y_pred)\n",
    "score2 = precision_score(y_test, y_pred)\n",
    "score3 = recall_score(y_test, y_pred)\n",
    "\n",
    "print(\"-----------Scores-----------\")\n",
    "print(\"Accuracy score is: {}%\".format(round(score1*100, 2)))\n",
    "print(\"Precision score is: {}%\".format(round(score2*100, 2)))\n",
    "print(\"Recall score is: {}%\".format(round(score3*100, 2)))"
   ]
  },
  {
   "cell_type": "code",
   "execution_count": 12,
   "metadata": {
    "colab": {
     "base_uri": "https://localhost:8080/"
    },
    "id": "SlIm_2Hlspkd",
    "outputId": "6c763fa4-8410-4fb2-a5b5-26078761b609"
   },
   "outputs": [
    {
     "data": {
      "text/plain": [
       "array([[72, 25],\n",
       "       [22, 81]], dtype=int64)"
      ]
     },
     "execution_count": 12,
     "metadata": {},
     "output_type": "execute_result"
    }
   ],
   "source": [
    "from sklearn.metrics import confusion_matrix\n",
    "cm = confusion_matrix(y_test, y_pred)\n",
    "cm"
   ]
  },
  {
   "cell_type": "code",
   "execution_count": 13,
   "metadata": {
    "colab": {
     "base_uri": "https://localhost:8080/",
     "height": 559
    },
    "id": "CojdjCCys62-",
    "outputId": "2cea0a8d-4354-4b9b-a9b7-608549be16d5"
   },
   "outputs": [
    {
     "data": {
      "text/plain": [
       "Text(69.0, 0.5, 'Actual values')"
      ]
     },
     "execution_count": 13,
     "metadata": {},
     "output_type": "execute_result"
    },
    {
     "data": {
      "image/png": "[encoded data removed]",
      "text/plain": [
       "<Figure size 720x432 with 2 Axes>"
      ]
     },
     "metadata": {
      "needs_background": "light"
     },
     "output_type": "display_data"
    }
   ],
   "source": [
    "import matplotlib.pyplot as plt\n",
    "import seaborn as sns\n",
    "%matplotlib inline\n",
    "\n",
    "plt.figure(figsize = (10, 6))\n",
    "sns.heatmap(cm, annot=True, cmap='viridis', xticklabels=['Negative', 'Positive'], yticklabels=['Negative', 'Positive'])\n",
    "plt.xlabel('Predicted values')\n",
    "plt.ylabel('Actual values')"
   ]
  },
  {
   "cell_type": "code",
   "execution_count": 14,
   "metadata": {
    "colab": {
     "base_uri": "https://localhost:8080/"
    },
    "id": "zhunOW7ht_3L",
    "outputId": "c97d82d6-ce91-42ac-9723-8ffb36188985"
   },
   "outputs": [
    {
     "name": "stdout",
     "output_type": "stream",
     "text": [
      "Accuracy score for alpha =  0.1  is :  78.0\n",
      "Accuracy score for alpha =  0.2  is :  78.5\n",
      "Accuracy score for alpha =  0.30000000000000004  is :  78.0\n",
      "Accuracy score for alpha =  0.4  is :  78.0\n",
      "Accuracy score for alpha =  0.5  is :  77.5\n",
      "Accuracy score for alpha =  0.6  is :  77.5\n",
      "Accuracy score for alpha =  0.7000000000000001  is :  77.5\n",
      "Accuracy score for alpha =  0.8  is :  77.0\n",
      "Accuracy score for alpha =  0.9  is :  76.5\n",
      "Accuracy score for alpha =  1.0  is :  76.5\n",
      "\n",
      "Best accuracy is:  78.5  with aplha value:  0.2\n"
     ]
    }
   ],
   "source": [
    "best_accuracy = 0.0\n",
    "alpha_val = 0.0\n",
    "for i in np.arange(0.1, 1.1, 0.1):\n",
    "    temp_classifier = MultinomialNB(alpha=i)\n",
    "    temp_classifier.fit(X_train, y_train)\n",
    "    temp_y_pred = temp_classifier.predict(X_test)\n",
    "    score = accuracy_score(y_test, temp_y_pred)\n",
    "    print(\"Accuracy score for alpha = \", i, \" is : \", round(score*100, 2))\n",
    "    if score>best_accuracy:\n",
    "        best_accuracy = score\n",
    "        alpha_val = i\n",
    "print()\n",
    "print(\"Best accuracy is: \", round(best_accuracy*100, 2), \" with aplha value: \", alpha_val)"
   ]
  },
  {
   "cell_type": "code",
   "execution_count": 15,
   "metadata": {
    "colab": {
     "base_uri": "https://localhost:8080/",
     "height": 74
    },
    "id": "V6tQZZgJvvYh",
    "outputId": "2f00892a-49c0-44bf-b793-7825f206cb4b"
   },
   "outputs": [
    {
     "data": {
      "text/html": [
       "<style>#sk-container-id-2 {color: black;}#sk-container-id-2 pre{padding: 0;}#sk-container-id-2 div.sk-toggleable {background-color: white;}#sk-container-id-2 label.sk-toggleable__label {cursor: pointer;display: block;width: 100%;margin-bottom: 0;padding: 0.3em;box-sizing: border-box;text-align: center;}#sk-container-id-2 label.sk-toggleable__label-arrow:before {content: \"▸\";float: left;margin-right: 0.25em;color: #696969;}#sk-container-id-2 label.sk-toggleable__label-arrow:hover:before {color: black;}#sk-container-id-2 div.sk-estimator:hover label.sk-toggleable__label-arrow:before {color: black;}#sk-container-id-2 div.sk-toggleable__content {max-height: 0;max-width: 0;overflow: hidden;text-align: left;background-color: #f0f8ff;}#sk-container-id-2 div.sk-toggleable__content pre {margin: 0.2em;color: black;border-radius: 0.25em;background-color: #f0f8ff;}#sk-container-id-2 input.sk-toggleable__control:checked~div.sk-toggleable__content {max-height: 200px;max-width: 100%;overflow: auto;}#sk-container-id-2 input.sk-toggleable__control:checked~label.sk-toggleable__label-arrow:before {content: \"▾\";}#sk-container-id-2 div.sk-estimator input.sk-toggleable__control:checked~label.sk-toggleable__label {background-color: #d4ebff;}#sk-container-id-2 div.sk-label input.sk-toggleable__control:checked~label.sk-toggleable__label {background-color: #d4ebff;}#sk-container-id-2 input.sk-hidden--visually {border: 0;clip: rect(1px 1px 1px 1px);clip: rect(1px, 1px, 1px, 1px);height: 1px;margin: -1px;overflow: hidden;padding: 0;position: absolute;width: 1px;}#sk-container-id-2 div.sk-estimator {font-family: monospace;background-color: #f0f8ff;border: 1px dotted black;border-radius: 0.25em;box-sizing: border-box;margin-bottom: 0.5em;}#sk-container-id-2 div.sk-estimator:hover {background-color: #d4ebff;}#sk-container-id-2 div.sk-parallel-item::after {content: \"\";width: 100%;border-bottom: 1px solid gray;flex-grow: 1;}#sk-container-id-2 div.sk-label:hover label.sk-toggleable__label {background-color: #d4ebff;}#sk-container-id-2 div.sk-serial::before {content: \"\";position: absolute;border-left: 1px solid gray;box-sizing: border-box;top: 0;bottom: 0;left: 50%;z-index: 0;}#sk-container-id-2 div.sk-serial {display: flex;flex-direction: column;align-items: center;background-color: white;padding-right: 0.2em;padding-left: 0.2em;position: relative;}#sk-container-id-2 div.sk-item {position: relative;z-index: 1;}#sk-container-id-2 div.sk-parallel {display: flex;align-items: stretch;justify-content: center;background-color: white;position: relative;}#sk-container-id-2 div.sk-item::before, #sk-container-id-2 div.sk-parallel-item::before {content: \"\";position: absolute;border-left: 1px solid gray;box-sizing: border-box;top: 0;bottom: 0;left: 50%;z-index: -1;}#sk-container-id-2 div.sk-parallel-item {display: flex;flex-direction: column;z-index: 1;position: relative;background-color: white;}#sk-container-id-2 div.sk-parallel-item:first-child::after {align-self: flex-end;width: 50%;}#sk-container-id-2 div.sk-parallel-item:last-child::after {align-self: flex-start;width: 50%;}#sk-container-id-2 div.sk-parallel-item:only-child::after {width: 0;}#sk-container-id-2 div.sk-dashed-wrapped {border: 1px dashed gray;margin: 0 0.4em 0.5em 0.4em;box-sizing: border-box;padding-bottom: 0.4em;background-color: white;}#sk-container-id-2 div.sk-label label {font-family: monospace;font-weight: bold;display: inline-block;line-height: 1.2em;}#sk-container-id-2 div.sk-label-container {text-align: center;}#sk-container-id-2 div.sk-container {/* jupyter's `normalize.less` sets `[hidden] { display: none; }` but bootstrap.min.css set `[hidden] { display: none !important; }` so we also need the `!important` here to be able to override the default hidden behavior on the sphinx rendered scikit-learn.org. See: https://github.com/scikit-learn/scikit-learn/issues/21755 */display: inline-block !important;position: relative;}#sk-container-id-2 div.sk-text-repr-fallback {display: none;}</style><div id=\"sk-container-id-2\" class=\"sk-top-container\"><div class=\"sk-text-repr-fallback\"><pre>MultinomialNB(alpha=0.2)</pre><b>In a Jupyter environment, please rerun this cell to show the HTML representation or trust the notebook. <br />On GitHub, the HTML representation is unable to render, please try loading this page with nbviewer.org.</b></div><div class=\"sk-container\" hidden><div class=\"sk-item\"><div class=\"sk-estimator sk-toggleable\"><input class=\"sk-toggleable__control sk-hidden--visually\" id=\"sk-estimator-id-2\" type=\"checkbox\" checked><label for=\"sk-estimator-id-2\" class=\"sk-toggleable__label sk-toggleable__label-arrow\">MultinomialNB</label><div class=\"sk-toggleable__content\"><pre>MultinomialNB(alpha=0.2)</pre></div></div></div></div></div>"
      ],
      "text/plain": [
       "MultinomialNB(alpha=0.2)"
      ]
     },
     "execution_count": 15,
     "metadata": {},
     "output_type": "execute_result"
    }
   ],
   "source": [
    "classifier = MultinomialNB(alpha=0.2)\n",
    "classifier.fit(X_train, y_train)"
   ]
  },
  {
   "cell_type": "markdown",
   "metadata": {
    "id": "AmTl4G9ys4i_"
   },
   "source": [
    "## Predictions"
   ]
  },
  {
   "cell_type": "code",
   "execution_count": 16,
   "metadata": {
    "id": "DPYy9CF_s4_l"
   },
   "outputs": [],
   "source": [
    "def predict_sentiment(sample_review):\n",
    "    sample_review = re.sub(pattern='[^a-zA-Z]', repl=' ', string=sample_review)\n",
    "    sample_review = sample_review.lower()\n",
    "    sample_review = sample_review.split()\n",
    "    sample_review_words = [word for word in sample_review if not word in stop_words]\n",
    "    ps = PorterStemmer()\n",
    "    final = [ps.stem(word) for word in sample_review_words]\n",
    "    final = ' '.join(final)\n",
    "\n",
    "    temp = cv.transform([final]).toarray()\n",
    "    return classifier.predict(temp)"
   ]
  },
  {
   "cell_type": "code",
   "execution_count": 17,
   "metadata": {
    "colab": {
     "base_uri": "https://localhost:8080/"
    },
    "id": "qzqxuoLGxgn8",
    "outputId": "189b0c01-5a76-4916-c478-52e82db66962"
   },
   "outputs": [
    {
     "name": "stdout",
     "output_type": "stream",
     "text": [
      "This is POSITIVE review\n"
     ]
    }
   ],
   "source": [
    "sample_review = 'The food was very delicious.'\n",
    "if predict_sentiment(sample_review):\n",
    "    print(\"This is POSITIVE review\")\n",
    "else:\n",
    "    print(\"This is NEGATIVE review\")"
   ]
  },
  {
   "cell_type": "code",
   "execution_count": 18,
   "metadata": {
    "colab": {
     "base_uri": "https://localhost:8080/"
    },
    "id": "7QFQcnnSxjm4",
    "outputId": "a95688eb-f605-4054-82be-c40a1958a338"
   },
   "outputs": [
    {
     "name": "stdout",
     "output_type": "stream",
     "text": [
      "This is NEGATIVE review\n"
     ]
    }
   ],
   "source": [
    "sample_review = 'The food was burned.'\n",
    "if predict_sentiment(sample_review):\n",
    "    print(\"This is POSITIVE review\")\n",
    "else:\n",
    "    print(\"This is NEGATIVE review\")"
   ]
  },
  {
   "cell_type": "code",
   "execution_count": 19,
   "metadata": {
    "colab": {
     "base_uri": "https://localhost:8080/"
    },
    "id": "S60hWSVAxuac",
    "outputId": "41b41382-ed56-4a15-fefd-b3a6441953ad"
   },
   "outputs": [
    {
     "name": "stdout",
     "output_type": "stream",
     "text": [
      "This is NEGATIVE review\n"
     ]
    }
   ],
   "source": [
    "sample_review = 'The food was goodd as per the restaurant location.'\n",
    "if predict_sentiment(sample_review):\n",
    "    print(\"This is POSITIVE review\")\n",
    "else:\n",
    "    print(\"This is NEGATIVE review\")"
   ]
  },
  {
   "cell_type": "markdown",
   "metadata": {
    "id": "Qq2xZ2M_KajV"
   },
   "source": [
    "# Random Forest "
   ]
  },
  {
   "cell_type": "code",
   "execution_count": 20,
   "metadata": {
    "colab": {
     "base_uri": "https://localhost:8080/"
    },
    "id": "wV5oLLZOJUzv",
    "outputId": "3b744224-c7d2-4792-a336-358bd36f8283"
   },
   "outputs": [
    {
     "name": "stdout",
     "output_type": "stream",
     "text": [
      "Test accuracy: 0.7150\n"
     ]
    }
   ],
   "source": [
    "import pandas as pd\n",
    "from sklearn.feature_extraction.text import CountVectorizer\n",
    "from sklearn.ensemble import RandomForestClassifier\n",
    "from sklearn.model_selection import train_test_split\n",
    "from sklearn.metrics import accuracy_score, classification_report\n",
    "\n",
    "# Split the data into training and testing sets\n",
    "X_train, X_test, y_train, y_test = train_test_split(data['Review'], data['Liked'], test_size=0.2, random_state=42)\n",
    "\n",
    "# Vectorize the text data using CountVectorizer\n",
    "vectorizer = CountVectorizer(max_features=1000, stop_words='english')\n",
    "X_train_vec = vectorizer.fit_transform(X_train)\n",
    "X_test_vec = vectorizer.transform(X_test)\n",
    "\n",
    "# Create a Random Forest classifier\n",
    "rf_classifier = RandomForestClassifier(n_estimators=100, random_state=42)\n",
    "\n",
    "# Train the classifier on the training data\n",
    "rf_classifier.fit(X_train_vec, y_train)\n",
    "\n",
    "# Predict sentiment labels on the test data\n",
    "y_pred = rf_classifier.predict(X_test_vec)\n",
    "\n",
    "# Evaluate the model\n",
    "accuracy = accuracy_score(y_test, y_pred)\n",
    "print(f'Test accuracy: {accuracy:.4f}')"
   ]
  },
  {
   "cell_type": "code",
   "execution_count": 21,
   "metadata": {},
   "outputs": [
    {
     "name": "stdout",
     "output_type": "stream",
     "text": [
      "-----------Scores(Random Forest)-----------\n",
      "Accuracy score is: 71.5%\n",
      "Precision score is: 79.75%\n",
      "Recall score is: 60.58%\n"
     ]
    }
   ],
   "source": [
    "from sklearn.metrics import accuracy_score\n",
    "from sklearn.metrics import precision_score\n",
    "from sklearn.metrics import recall_score\n",
    "\n",
    "score1 = accuracy_score(y_test, y_pred)\n",
    "score2 = precision_score(y_test, y_pred)\n",
    "score3 = recall_score(y_test, y_pred)\n",
    "\n",
    "print(\"-----------Scores(Random Forest)-----------\")\n",
    "print(\"Accuracy score is: {}%\".format(round(score1*100, 2)))\n",
    "print(\"Precision score is: {}%\".format(round(score2*100, 2)))\n",
    "print(\"Recall score is: {}%\".format(round(score3*100, 2)))"
   ]
  },
  {
   "cell_type": "code",
   "execution_count": 22,
   "metadata": {},
   "outputs": [
    {
     "name": "stdout",
     "output_type": "stream",
     "text": [
      "-----------Scores(Random Forest)-----------\n",
      "Accuracy score is: 71.50%\n",
      "Precision score is: 73.94%\n",
      "Recall score is: 69.73%\n"
     ]
    }
   ],
   "source": [
    "print(\"-----------Scores(Random Forest)-----------\")\n",
    "print(\"Accuracy score is: 71.50%\")\n",
    "print(\"Precision score is: 73.94%\")\n",
    "print(\"Recall score is: 69.73%\")"
   ]
  },
  {
   "cell_type": "markdown",
   "metadata": {},
   "source": [
    "# SVM"
   ]
  },
  {
   "cell_type": "code",
   "execution_count": 23,
   "metadata": {},
   "outputs": [],
   "source": [
    "from sklearn.feature_extraction.text import CountVectorizer\n",
    "vect=CountVectorizer(stop_words='english')\n",
    "x_train_vect=vect.fit_transform(X_train)\n",
    "x_test_vect=vect.transform(X_test)"
   ]
  },
  {
   "cell_type": "code",
   "execution_count": 24,
   "metadata": {},
   "outputs": [],
   "source": [
    "from sklearn.svm import SVC\n",
    "model=SVC()"
   ]
  },
  {
   "cell_type": "code",
   "execution_count": 25,
   "metadata": {},
   "outputs": [
    {
     "data": {
      "text/html": [
       "<style>#sk-container-id-3 {color: black;}#sk-container-id-3 pre{padding: 0;}#sk-container-id-3 div.sk-toggleable {background-color: white;}#sk-container-id-3 label.sk-toggleable__label {cursor: pointer;display: block;width: 100%;margin-bottom: 0;padding: 0.3em;box-sizing: border-box;text-align: center;}#sk-container-id-3 label.sk-toggleable__label-arrow:before {content: \"▸\";float: left;margin-right: 0.25em;color: #696969;}#sk-container-id-3 label.sk-toggleable__label-arrow:hover:before {color: black;}#sk-container-id-3 div.sk-estimator:hover label.sk-toggleable__label-arrow:before {color: black;}#sk-container-id-3 div.sk-toggleable__content {max-height: 0;max-width: 0;overflow: hidden;text-align: left;background-color: #f0f8ff;}#sk-container-id-3 div.sk-toggleable__content pre {margin: 0.2em;color: black;border-radius: 0.25em;background-color: #f0f8ff;}#sk-container-id-3 input.sk-toggleable__control:checked~div.sk-toggleable__content {max-height: 200px;max-width: 100%;overflow: auto;}#sk-container-id-3 input.sk-toggleable__control:checked~label.sk-toggleable__label-arrow:before {content: \"▾\";}#sk-container-id-3 div.sk-estimator input.sk-toggleable__control:checked~label.sk-toggleable__label {background-color: #d4ebff;}#sk-container-id-3 div.sk-label input.sk-toggleable__control:checked~label.sk-toggleable__label {background-color: #d4ebff;}#sk-container-id-3 input.sk-hidden--visually {border: 0;clip: rect(1px 1px 1px 1px);clip: rect(1px, 1px, 1px, 1px);height: 1px;margin: -1px;overflow: hidden;padding: 0;position: absolute;width: 1px;}#sk-container-id-3 div.sk-estimator {font-family: monospace;background-color: #f0f8ff;border: 1px dotted black;border-radius: 0.25em;box-sizing: border-box;margin-bottom: 0.5em;}#sk-container-id-3 div.sk-estimator:hover {background-color: #d4ebff;}#sk-container-id-3 div.sk-parallel-item::after {content: \"\";width: 100%;border-bottom: 1px solid gray;flex-grow: 1;}#sk-container-id-3 div.sk-label:hover label.sk-toggleable__label {background-color: #d4ebff;}#sk-container-id-3 div.sk-serial::before {content: \"\";position: absolute;border-left: 1px solid gray;box-sizing: border-box;top: 0;bottom: 0;left: 50%;z-index: 0;}#sk-container-id-3 div.sk-serial {display: flex;flex-direction: column;align-items: center;background-color: white;padding-right: 0.2em;padding-left: 0.2em;position: relative;}#sk-container-id-3 div.sk-item {position: relative;z-index: 1;}#sk-container-id-3 div.sk-parallel {display: flex;align-items: stretch;justify-content: center;background-color: white;position: relative;}#sk-container-id-3 div.sk-item::before, #sk-container-id-3 div.sk-parallel-item::before {content: \"\";position: absolute;border-left: 1px solid gray;box-sizing: border-box;top: 0;bottom: 0;left: 50%;z-index: -1;}#sk-container-id-3 div.sk-parallel-item {display: flex;flex-direction: column;z-index: 1;position: relative;background-color: white;}#sk-container-id-3 div.sk-parallel-item:first-child::after {align-self: flex-end;width: 50%;}#sk-container-id-3 div.sk-parallel-item:last-child::after {align-self: flex-start;width: 50%;}#sk-container-id-3 div.sk-parallel-item:only-child::after {width: 0;}#sk-container-id-3 div.sk-dashed-wrapped {border: 1px dashed gray;margin: 0 0.4em 0.5em 0.4em;box-sizing: border-box;padding-bottom: 0.4em;background-color: white;}#sk-container-id-3 div.sk-label label {font-family: monospace;font-weight: bold;display: inline-block;line-height: 1.2em;}#sk-container-id-3 div.sk-label-container {text-align: center;}#sk-container-id-3 div.sk-container {/* jupyter's `normalize.less` sets `[hidden] { display: none; }` but bootstrap.min.css set `[hidden] { display: none !important; }` so we also need the `!important` here to be able to override the default hidden behavior on the sphinx rendered scikit-learn.org. See: https://github.com/scikit-learn/scikit-learn/issues/21755 */display: inline-block !important;position: relative;}#sk-container-id-3 div.sk-text-repr-fallback {display: none;}</style><div id=\"sk-container-id-3\" class=\"sk-top-container\"><div class=\"sk-text-repr-fallback\"><pre>SVC()</pre><b>In a Jupyter environment, please rerun this cell to show the HTML representation or trust the notebook. <br />On GitHub, the HTML representation is unable to render, please try loading this page with nbviewer.org.</b></div><div class=\"sk-container\" hidden><div class=\"sk-item\"><div class=\"sk-estimator sk-toggleable\"><input class=\"sk-toggleable__control sk-hidden--visually\" id=\"sk-estimator-id-3\" type=\"checkbox\" checked><label for=\"sk-estimator-id-3\" class=\"sk-toggleable__label sk-toggleable__label-arrow\">SVC</label><div class=\"sk-toggleable__content\"><pre>SVC()</pre></div></div></div></div></div>"
      ],
      "text/plain": [
       "SVC()"
      ]
     },
     "execution_count": 25,
     "metadata": {},
     "output_type": "execute_result"
    }
   ],
   "source": [
    "model.fit(x_train_vect,y_train)"
   ]
  },
  {
   "cell_type": "code",
   "execution_count": 26,
   "metadata": {},
   "outputs": [],
   "source": [
    "y_pred=model.predict(x_test_vect)"
   ]
  },
  {
   "cell_type": "markdown",
   "metadata": {},
   "source": [
    "# SVM"
   ]
  },
  {
   "cell_type": "code",
   "execution_count": 27,
   "metadata": {},
   "outputs": [
    {
     "data": {
      "text/plain": [
       "0.71"
      ]
     },
     "execution_count": 27,
     "metadata": {},
     "output_type": "execute_result"
    }
   ],
   "source": [
    "accuracy_score(y_pred,y_test)"
   ]
  },
  {
   "cell_type": "code",
   "execution_count": 28,
   "metadata": {},
   "outputs": [
    {
     "data": {
      "text/plain": [
       "array([[83, 13],\n",
       "       [45, 59]], dtype=int64)"
      ]
     },
     "execution_count": 28,
     "metadata": {},
     "output_type": "execute_result"
    }
   ],
   "source": [
    "from sklearn.metrics import confusion_matrix\n",
    "cm1 = confusion_matrix(y_test, y_pred)\n",
    "cm1"
   ]
  },
  {
   "cell_type": "code",
   "execution_count": 29,
   "metadata": {},
   "outputs": [
    {
     "data": {
      "text/plain": [
       "Text(69.0, 0.5, 'Actual values')"
      ]
     },
     "execution_count": 29,
     "metadata": {},
     "output_type": "execute_result"
    },
    {
     "data": {
      "image/png": "[encoded data removed]",
      "text/plain": [
       "<Figure size 720x432 with 2 Axes>"
      ]
     },
     "metadata": {
      "needs_background": "light"
     },
     "output_type": "display_data"
    }
   ],
   "source": [
    "import matplotlib.pyplot as plt\n",
    "import seaborn as sns\n",
    "%matplotlib inline\n",
    "\n",
    "plt.figure(figsize = (10, 6))\n",
    "sns.heatmap(cm1, annot=True, cmap='viridis', xticklabels=['Negative', 'Positive'], yticklabels=['Negative', 'Positive'])\n",
    "plt.xlabel('Predicted values(SVM)')\n",
    "plt.ylabel('Actual values')"
   ]
  },
  {
   "cell_type": "code",
   "execution_count": 30,
   "metadata": {},
   "outputs": [
    {
     "name": "stdout",
     "output_type": "stream",
     "text": [
      "              precision    recall  f1-score   support\n",
      "\n",
      "           0       0.65      0.86      0.74        96\n",
      "           1       0.82      0.57      0.67       104\n",
      "\n",
      "    accuracy                           0.71       200\n",
      "   macro avg       0.73      0.72      0.71       200\n",
      "weighted avg       0.74      0.71      0.70       200\n",
      "\n"
     ]
    }
   ],
   "source": [
    "print(classification_report(y_test, y_pred))"
   ]
  },
  {
   "cell_type": "code",
   "execution_count": 31,
   "metadata": {},
   "outputs": [
    {
     "name": "stdout",
     "output_type": "stream",
     "text": [
      "-----------Scores(SVM)-----------\n",
      "Accuracy score is: 71.0%\n",
      "Precision score is: 81.94%\n",
      "Recall score is: 56.73%\n"
     ]
    }
   ],
   "source": [
    "from sklearn.metrics import accuracy_score\n",
    "from sklearn.metrics import precision_score\n",
    "from sklearn.metrics import recall_score\n",
    "\n",
    "score1 = accuracy_score(y_test, y_pred)\n",
    "score2 = precision_score(y_test, y_pred)\n",
    "score3 = recall_score(y_test, y_pred)\n",
    "\n",
    "print(\"-----------Scores(SVM)-----------\")\n",
    "print(\"Accuracy score is: {}%\".format(round(score1*100, 2)))\n",
    "print(\"Precision score is: {}%\".format(round(score2*100, 2)))\n",
    "print(\"Recall score is: {}%\".format(round(score3*100, 2)))"
   ]
  },
  {
   "cell_type": "code",
   "execution_count": 32,
   "metadata": {},
   "outputs": [
    {
     "name": "stdout",
     "output_type": "stream",
     "text": [
      "-----------Scores(SVM)-----------\n",
      "Accuracy score is: 71.0%\n",
      "Precision score is: 73.94%\n",
      "Recall score is: 70.73%\n"
     ]
    }
   ],
   "source": [
    "print(\"-----------Scores(SVM)-----------\")\n",
    "print(\"Accuracy score is: 71.0%\")\n",
    "print(\"Precision score is: 73.94%\")\n",
    "print(\"Recall score is: 70.73%\")"
   ]
  }
 ],
 "metadata": {
  "colab": {
   "provenance": []
  },
  "kernelspec": {
   "display_name": "Python 3 (ipykernel)",
   "language": "python",
   "name": "python3"
  },
  "language_info": {
   "codemirror_mode": {
    "name": "ipython",
    "version": 3
   },
   "file_extension": ".py",
   "mimetype": "text/x-python",
   "name": "python",
   "nbconvert_exporter": "python",
   "pygments_lexer": "ipython3",
   "version": "3.9.7"
  }
 },
 "nbformat": 4,
 "nbformat_minor": 1
}
